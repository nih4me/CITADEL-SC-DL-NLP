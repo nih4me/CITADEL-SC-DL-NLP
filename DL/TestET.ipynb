{
  "cells": [
    {
      "cell_type": "markdown",
      "metadata": {
        "id": "3qF8xmpAdACr"
      },
      "source": [
        "# Exemple d'apprentissage du ET avec TensorFlow\n",
        "## Illustration de l'importance du Bias\n",
        "\n",
        "|a|b|a et b|\n",
        "|:-:|:-:|:-:|\n",
        "|0|0|0|\n",
        "|0|1|0|\n",
        "|1|0|0|\n",
        "|1|1|1|\n",
        "\n",
        "\n",
        "*Théoriquement, en 1 couche, l'apprentissage du ET par réseau de neurones n'est pas possible.*\n",
        "\n",
        "En effet, la couche n'est consituée que de 1 neurone (1 sortie), ses entrées sont les valeurs `a` et `b`.\n",
        "`wa` et `wb` étant les poids affectés à ces valeurs, il faut vérifier : \n",
        " - `f(0)` tend vers 0 --> ok\n",
        " - `f(wb)` tend vers 0\n",
        " - `f(wa)` tend vers 0\n",
        " - `f(wa + wb)` tend vers 1 --> conflit avec les lignes précédentes\n",
        " \n",
        "*Vérifions le...*\n"
      ]
    },
    {
      "cell_type": "markdown",
      "metadata": {
        "id": "JZpJB9iOdRS3"
      },
      "source": [
        "---\n",
        "**Importer les librairies**"
      ]
    },
    {
      "cell_type": "code",
      "execution_count": 1,
      "metadata": {
        "id": "odDg9S7xdFsv"
      },
      "outputs": [],
      "source": [
        "#keras : Python Deep Learning library\n",
        "import tensorflow.keras as keras\n",
        "#prevision d'utiliser un réseau en couches séquentielles\n",
        "from tensorflow.keras.models import Sequential\n",
        "#prevision d'utiliser des couches totalement connectées la précédente\n",
        "from tensorflow.keras.layers import Dense\n",
        "#utilisation de la classique librairie pour tableaux, ...\n",
        "import numpy as np"
      ]
    },
    {
      "cell_type": "markdown",
      "metadata": {
        "id": "XN8WXXdTdXx0"
      },
      "source": [
        "---\n",
        "\n",
        "## Définir les entrées et sorties attendues\n"
      ]
    },
    {
      "cell_type": "code",
      "execution_count": 2,
      "metadata": {
        "id": "A1mjGN2Bb5Ki"
      },
      "outputs": [],
      "source": [
        "# a et b sont les seules entrées\n",
        "entrees = np.array([[0,0],[0,1],[1,0],[1,1]], float)\n",
        "\n",
        "# une seule sortie\n",
        "sorties = np.array([[0],[0],[0],[1]], float)"
      ]
    },
    {
      "cell_type": "markdown",
      "metadata": {
        "id": "SC-1MnShdwe0"
      },
      "source": [
        "---\n",
        "## 1. Version sans BIAS"
      ]
    },
    {
      "cell_type": "markdown",
      "metadata": {
        "id": "7VpMfw5t8rqc"
      },
      "source": [
        "### 1.1. Choisir le modèle de réseau \n",
        "***ici les couches sont séquentielles***"
      ]
    },
    {
      "cell_type": "code",
      "execution_count": 3,
      "metadata": {
        "id": "WbST4EmqcCdJ"
      },
      "outputs": [],
      "source": [
        "model = Sequential()"
      ]
    },
    {
      "cell_type": "markdown",
      "metadata": {
        "id": "Jo5Ej8kkd8nh"
      },
      "source": [
        "### 1.2. Définir l'architecture du réseau\n",
        "- ici une seule couche constituée de 1 neurone en sortie, \n",
        "- de 2 neurones en entrée (pour chaque valeur), \n",
        "- utilisation de la sigmoïde comme fonction d'activation"
      ]
    },
    {
      "cell_type": "code",
      "execution_count": 4,
      "metadata": {
        "id": "Vr6dcOJicGYM"
      },
      "outputs": [],
      "source": [
        "model.add(Dense(1, input_dim=2, use_bias=False, activation='sigmoid'))"
      ]
    },
    {
      "cell_type": "markdown",
      "metadata": {
        "id": "8L4LxSBWeaF1"
      },
      "source": [
        "---\n",
        "\n",
        "### 1.3. Compiler le  réseau\n",
        "Ici, on précise que \n",
        "  - l'algo de correction d'erreur est 'Adamax', \n",
        "  - l'erreur calculée est la moyenne des valeurs absolues des erreurs commises"
      ]
    },
    {
      "cell_type": "code",
      "execution_count": 5,
      "metadata": {
        "id": "HlnG97g7cQKW"
      },
      "outputs": [],
      "source": [
        "model.compile(optimizer='adamax', loss='MSE')"
      ]
    },
    {
      "cell_type": "markdown",
      "metadata": {
        "id": "rZ4IQ-bIdtN1"
      },
      "source": [
        "---\n",
        "\n",
        "### 1.4. Entraîner le réseau \n",
        "- ici on ne le fait pas parler (verbose = 0), \n",
        "- et on lance 10000 cycles d'apprentissage"
      ]
    },
    {
      "cell_type": "code",
      "execution_count": 6,
      "metadata": {
        "colab": {
          "base_uri": "https://localhost:8080/"
        },
        "id": "ddTla-J_cfz8",
        "outputId": "540a4fb1-1220-4032-9ffb-a12dac95c231"
      },
      "outputs": [
        {
          "output_type": "execute_result",
          "data": {
            "text/plain": [
              "<keras.callbacks.History at 0x7f2bb7178490>"
            ]
          },
          "metadata": {},
          "execution_count": 6
        }
      ],
      "source": [
        "model.fit(entrees, sorties, verbose=0, epochs=10000)"
      ]
    },
    {
      "cell_type": "markdown",
      "metadata": {
        "id": "I0zBYIALlDYp"
      },
      "source": [
        "---\n",
        "\n",
        "### 1.5. Vérifier le réseau\n",
        "Etape facultative, en général ***on teste le réseau sur d'autres exemples***. \n",
        "- Ici, on n'en a pas. Alors on lui demande de calculer la sortie pour chaque exemple de l'ensemble d'entraînement"
      ]
    },
    {
      "cell_type": "code",
      "execution_count": null,
      "metadata": {
        "id": "Z89vptAXcuDM"
      },
      "outputs": [],
      "source": [
        "predictions = model.predict(entrees)"
      ]
    },
    {
      "cell_type": "markdown",
      "metadata": {
        "id": "N38spzckmMMJ"
      },
      "source": [
        "---\n",
        "### 1.6. Affichage des résultats\n",
        "Ici pas de nécessité de graphique d'évolution de l'erreur.\n",
        "On affiche les entrées, la sortie attendue, la sortie calculée ainsi que les poids appliquées aux entrées et au signal bias.."
      ]
    },
    {
      "cell_type": "code",
      "execution_count": null,
      "metadata": {
        "colab": {
          "base_uri": "https://localhost:8080/",
          "height": 153
        },
        "id": "E7Lluiifcx0b",
        "outputId": "a68a8d3f-24f5-4f70-95fc-a215b158ee09"
      },
      "outputs": [
        {
          "name": "stdout",
          "output_type": "stream",
          "text": [
            "verification\n",
            "0.0  -  0.0  attendu  [0.]  trouvé  [0.5]\n",
            "0.0  -  1.0  attendu  [0.]  trouvé  [0.5000002]\n",
            "1.0  -  0.0  attendu  [0.]  trouvé  [0.50000006]\n",
            "1.0  -  1.0  attendu  [1.]  trouvé  [0.50000024]\n",
            "poids pour entree x = 2.6033268e-07\n",
            "poids pour entree y = 6.0059847e-07\n"
          ]
        }
      ],
      "source": [
        "def verification(bias=False):\n",
        "    print(\"verification\")\n",
        "    for i in range(0, len(entrees)):\n",
        "        print(entrees[i][0], \" - \", entrees[i][1], \" attendu \", sorties[i], \" trouvé \",  predictions[i])\n",
        "\n",
        "    ws = model.get_weights()\n",
        "    print(\"poids pour entree x = \" + str(ws[0][0][0]))\n",
        "    print(\"poids pour entree y = \" + str(ws[0][1][0]))\n",
        "    if(bias):print(\"poids pour bias = \" + str(ws[1][0]))\n",
        "\n",
        "verification()"
      ]
    },
    {
      "cell_type": "code",
      "execution_count": null,
      "metadata": {
        "id": "5hiVQJED8rqh",
        "outputId": "7876b048-46b6-49e2-8559-cbf22d3b52c3"
      },
      "outputs": [
        {
          "name": "stdout",
          "output_type": "stream",
          "text": [
            "perte= 0.25\n"
          ]
        }
      ],
      "source": [
        "loss = model.evaluate(entrees, sorties,verbose=0)\n",
        "print(\"perte=\",loss)"
      ]
    },
    {
      "cell_type": "markdown",
      "metadata": {
        "id": "OJ5bwZmb8rqi"
      },
      "source": [
        "**Des erreurs importantes donc**, comme prévu...."
      ]
    },
    {
      "cell_type": "markdown",
      "metadata": {
        "id": "WupmQYmn8rqi"
      },
      "source": [
        "---\n",
        "## 2. Version AVEC BIAS\n",
        "\n",
        "Le tableau est alors\n",
        "\n",
        "|bias|a|b|a et b|\n",
        "|:-:|:-:|:-:|:-:|\n",
        "|1|0|0|0|\n",
        "|1|0|1|0|\n",
        "|1|1|0|0|\n",
        "|1|1|1|1|\n",
        "\n",
        "\n",
        "*Théoriquement, en 1 couche, l'apprentissage du ET par réseau de neurones est alors possible.*\n",
        "\n",
        "En effet, la couche n'est consituée que de 1 neurone (1 sortie), ses entrées sont les valeurs `bias`, `a` et `b`.\n",
        "`wbias`, `wa` et `wb` étant les poids affectés à ces valeurs, il faut vérifier : \n",
        " - `f(bias)` tend vers 0\n",
        " - `f(bias + wb)` tend vers 0\n",
        " - `f(bias + wa)` tend vers 0\n",
        " - `f(bias + wa + wb)` tend vers 1 \n",
        " \n",
        "*Vérifions le...*\n",
        "\n",
        "---\n",
        "\n",
        "### 2.1. Définir l'architecture du réseau\n",
        "- ici une seule couche constituée de 1 neurone en sortie, \n",
        "- de 3 neurones en entrée (2 contenant les valeurs + **un Bias** (émettant toujours le signal 1)), \n",
        "- utilisation de la sigmoide comme fonction d'activation"
      ]
    },
    {
      "cell_type": "code",
      "execution_count": null,
      "metadata": {
        "id": "w3zHl1PS8rqi"
      },
      "outputs": [],
      "source": [
        "model = Sequential()\n",
        "model.add(Dense(1, input_dim=2, use_bias=True, activation='sigmoid'))"
      ]
    },
    {
      "cell_type": "markdown",
      "metadata": {
        "id": "runPooiO8rqi"
      },
      "source": [
        "---\n",
        "\n",
        "### 2.2 Compiler et entrainer le  réseau \n",
        "Ici, on précise que \n",
        "  - l'algo de correction d'erreur est 'Adamax', \n",
        "  - l'erreur calculée est la moyenne des valeurs absolues des erreurs commises\n",
        "  - 10000 cycles d'apprentissage demandés"
      ]
    },
    {
      "cell_type": "code",
      "execution_count": null,
      "metadata": {
        "id": "eXE-QRjV8rqj",
        "outputId": "447b243a-997d-4e6e-aad7-7980121b445c"
      },
      "outputs": [
        {
          "data": {
            "text/plain": [
              "<tensorflow.python.keras.callbacks.History at 0x648963d10>"
            ]
          },
          "execution_count": 11,
          "metadata": {},
          "output_type": "execute_result"
        }
      ],
      "source": [
        "model.compile(optimizer='adamax', loss='MSE')\n",
        "\n",
        "model.fit(entrees, sorties, verbose=0, epochs=10000)"
      ]
    },
    {
      "cell_type": "markdown",
      "metadata": {
        "id": "PKtHeNqq8rqj"
      },
      "source": [
        "---\n",
        "\n",
        "### 2.2. Vérifier le réseau\n",
        "Pas d'exemples de validation, on vérifie simplement la correspondance entre sortie attendue et la sortie réelle."
      ]
    },
    {
      "cell_type": "code",
      "execution_count": null,
      "metadata": {
        "id": "kVhSzdQb8rqj",
        "outputId": "3f973ec2-838f-439e-a3b6-f727f3cffbc4"
      },
      "outputs": [
        {
          "name": "stdout",
          "output_type": "stream",
          "text": [
            "verification\n",
            "0.0  -  0.0  attendu  [0.]  trouvé  [4.3541193e-05]\n",
            "0.0  -  1.0  attendu  [0.]  trouvé  [0.03397343]\n",
            "1.0  -  0.0  attendu  [0.]  trouvé  [0.03396708]\n",
            "1.0  -  1.0  attendu  [1.]  trouvé  [0.9660015]\n",
            "poids pour entree x = 6.694462\n",
            "poids pour entree y = 6.6946545\n",
            "poids pour bias = -10.042267\n"
          ]
        }
      ],
      "source": [
        "predictions = model.predict(entrees)\n",
        "verification(True)"
      ]
    },
    {
      "cell_type": "code",
      "execution_count": null,
      "metadata": {
        "id": "O-aI9m7j8rqj",
        "outputId": "c86bf636-acbb-4a99-dce3-7547e1ef998e"
      },
      "outputs": [
        {
          "name": "stdout",
          "output_type": "stream",
          "text": [
            "perte= 0.0008659637533128262\n"
          ]
        }
      ],
      "source": [
        "loss = model.evaluate(entrees, sorties, verbose=0)\n",
        "print(\"perte=\",loss)"
      ]
    },
    {
      "cell_type": "markdown",
      "metadata": {
        "id": "xUSxILCv8rqk"
      },
      "source": [
        "**Apprentissage quasi parfait !!!** \n",
        "- -> démonstration concrère de l'effet du `Bias` !!"
      ]
    },
    {
      "cell_type": "code",
      "execution_count": null,
      "metadata": {
        "id": "8Hiaq_V68rqk"
      },
      "outputs": [],
      "source": []
    }
  ],
  "metadata": {
    "colab": {
      "collapsed_sections": [],
      "name": "TestET.ipynb",
      "provenance": []
    },
    "kernelspec": {
      "display_name": "Python 3",
      "language": "python",
      "name": "python3"
    },
    "language_info": {
      "codemirror_mode": {
        "name": "ipython",
        "version": 3
      },
      "file_extension": ".py",
      "mimetype": "text/x-python",
      "name": "python",
      "nbconvert_exporter": "python",
      "pygments_lexer": "ipython3",
      "version": "3.7.6"
    }
  },
  "nbformat": 4,
  "nbformat_minor": 0
}