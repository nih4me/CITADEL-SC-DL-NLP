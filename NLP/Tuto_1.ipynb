{
 "cells": [
  {
   "cell_type": "markdown",
   "id": "bee37357-e478-4578-85cc-f0053b092567",
   "metadata": {},
   "source": [
    "# NLP 1"
   ]
  },
  {
   "cell_type": "markdown",
   "id": "58471d2b-806d-47df-b3b7-1936040b6c90",
   "metadata": {},
   "source": [
    "## Notre corpus"
   ]
  },
  {
   "cell_type": "code",
   "execution_count": 5,
   "id": "8dde3eeb-fe12-4867-b161-9c8ccadfbe43",
   "metadata": {},
   "outputs": [],
   "source": [
    "corpus = [\n",
    "    'Voici mon premier document.',\n",
    "    'Vous trouverez ici le deuxieme',\n",
    "    'Je suis le document numero trois.',\n",
    "    'Et enfin, voici le dernier document',]\n",
    "\n",
    "est_spam = [1, 0, 0, 1]"
   ]
  },
  {
   "cell_type": "markdown",
   "id": "668580bc-45e5-467a-8f17-6ac600b6ce57",
   "metadata": {},
   "source": [
    "## TF"
   ]
  },
  {
   "cell_type": "code",
   "execution_count": 6,
   "id": "a4e8d4ff-18a5-497a-bc0c-4f786f5143aa",
   "metadata": {},
   "outputs": [
    {
     "name": "stdout",
     "output_type": "stream",
     "text": [
      "['dernier' 'deuxieme' 'document' 'enfin' 'et' 'ici' 'je' 'le' 'mon'\n",
      " 'numero' 'premier' 'suis' 'trois' 'trouverez' 'voici' 'vous']\n",
      "[[0 0 1 0 0 0 0 0 1 0 1 0 0 0 1 0]\n",
      " [0 1 0 0 0 1 0 1 0 0 0 0 0 1 0 1]\n",
      " [0 0 1 0 0 0 1 1 0 1 0 1 1 0 0 0]\n",
      " [1 0 1 1 1 0 0 1 0 0 0 0 0 0 1 0]]\n"
     ]
    }
   ],
   "source": [
    "from sklearn.feature_extraction.text import CountVectorizer\n",
    "\n",
    "tf_vectorizer = CountVectorizer()\n",
    "X = tf_vectorizer.fit_transform(corpus)\n",
    "\n",
    "print(tf_vectorizer.get_feature_names_out())\n",
    "print(X.toarray())"
   ]
  },
  {
   "cell_type": "markdown",
   "id": "cd9eacee-c161-44cf-8da1-051e4cb2a4bf",
   "metadata": {},
   "source": [
    "## TF-IDF"
   ]
  },
  {
   "cell_type": "code",
   "execution_count": 8,
   "id": "77c620b9-28ae-4595-ae29-413e120caeac",
   "metadata": {},
   "outputs": [
    {
     "name": "stdout",
     "output_type": "stream",
     "text": [
      "['dernier' 'document' 'le' 'voici']\n",
      "[[0.         0.62922751 0.         0.77722116]\n",
      " [0.         0.         1.         0.        ]\n",
      " [0.         0.70710678 0.70710678 0.        ]\n",
      " [0.64065543 0.40892206 0.40892206 0.5051001 ]]\n"
     ]
    }
   ],
   "source": [
    "from sklearn.feature_extraction.text import TfidfVectorizer\n",
    "\n",
    "tfidf_vectorizer = TfidfVectorizer(max_features=4)\n",
    "X = tfidf_vectorizer.fit_transform(corpus)\n",
    "\n",
    "print(tfidf_vectorizer.get_feature_names_out())\n",
    "print(X.toarray())"
   ]
  },
  {
   "cell_type": "markdown",
   "id": "084fc612-d848-45da-b385-24aa71560d87",
   "metadata": {},
   "source": [
    "## Embedding de mot avec spacy "
   ]
  },
  {
   "cell_type": "code",
   "execution_count": 9,
   "id": "02ae1ee8-ccb6-46b7-b001-8cfef94f48d1",
   "metadata": {},
   "outputs": [],
   "source": [
    "import spacy\n",
    "\n",
    "# python -m spacy download fr_core_news_sm\n",
    "\n",
    "nlp = spacy.load('fr_core_news_sm')\n",
    "doc = nlp(\"Bonjour le monde. Aujourd’hui c'est Mercredi\")"
   ]
  },
  {
   "cell_type": "code",
   "execution_count": 17,
   "id": "bc46bb56-e4e4-49f3-9362-6ef24bae2509",
   "metadata": {},
   "outputs": [
    {
     "data": {
      "text/plain": [
       "Bonjour"
      ]
     },
     "execution_count": 17,
     "metadata": {},
     "output_type": "execute_result"
    }
   ],
   "source": [
    "doc[0]"
   ]
  },
  {
   "cell_type": "code",
   "execution_count": 14,
   "id": "3c9c86e3-77f3-4b83-85ab-5805e9305143",
   "metadata": {},
   "outputs": [
    {
     "data": {
      "text/plain": [
       "array([ 1.5623901e+00,  1.8523602e+00, -5.3516979e+00,  5.7966113e-01,\n",
       "        3.2397523e+00,  1.6934340e+00, -2.6692152e+00, -4.2883605e-01,\n",
       "        6.8984097e-01, -3.4888893e-01,  8.2179463e-01, -4.7651899e-01,\n",
       "        1.3879752e+00, -2.3064783e+00,  2.2686300e+00, -6.1436921e-01,\n",
       "        3.6022301e+00,  1.6116084e+00, -2.9082527e+00, -2.5356886e+00,\n",
       "       -1.1551647e+00, -3.7425873e+00, -1.2434776e+00,  2.8498778e+00,\n",
       "       -6.0009605e-01, -2.8400488e+00, -3.8192275e-01,  3.1502576e+00,\n",
       "        6.2717934e+00, -2.8445938e+00,  2.1022732e+00,  6.2151041e+00,\n",
       "        2.6197543e+00,  8.9927816e-01, -8.0400163e-01, -1.5655344e+00,\n",
       "       -3.2368708e+00,  7.7521801e-03,  3.5902829e+00, -4.1705880e+00,\n",
       "        4.1794062e+00, -3.1606388e+00,  3.0152404e-01,  3.5615292e+00,\n",
       "       -5.9140897e-01, -2.9423766e+00,  5.1926274e+00,  1.7386503e+00,\n",
       "       -2.0650442e+00,  5.9969735e+00,  5.7497203e-02, -1.0790157e-01,\n",
       "       -4.5260248e+00, -4.3627577e+00,  8.5388870e+00,  4.4083767e+00,\n",
       "        9.1341567e-01, -2.9165630e+00, -1.4752460e+00, -3.1512280e+00,\n",
       "        7.1442187e-02,  3.0677273e+00,  3.8047016e-01,  1.1383256e+00,\n",
       "       -2.8106718e+00, -6.9723427e-01,  7.1287954e-01, -7.6290369e+00,\n",
       "       -5.1693544e+00, -2.7535720e+00,  3.0188823e+00, -1.0990436e+00,\n",
       "        3.1324465e+00, -4.2502689e+00, -6.1935554e+00,  2.6912653e-01,\n",
       "        9.0683609e-02, -2.0882721e+00, -1.4302781e+00,  4.7812390e+00,\n",
       "        7.6009262e-01, -1.1047579e+00, -1.8164281e+00,  1.6591809e+00,\n",
       "       -5.4828181e+00,  6.0308094e+00, -4.6425632e-01, -1.7446237e+00,\n",
       "        2.8511324e+00, -2.1865675e+00,  3.0343756e-01,  3.5215399e+00,\n",
       "       -2.3559182e+00, -5.2681524e-01,  2.5035322e+00, -1.9660465e+00],\n",
       "      dtype=float32)"
      ]
     },
     "execution_count": 14,
     "metadata": {},
     "output_type": "execute_result"
    }
   ],
   "source": [
    "doc[0].vector"
   ]
  },
  {
   "cell_type": "code",
   "execution_count": 22,
   "id": "47488fc2-0cc0-4662-ad24-1876c6951e9e",
   "metadata": {},
   "outputs": [
    {
     "data": {
      "text/plain": [
       "Mercredi"
      ]
     },
     "execution_count": 22,
     "metadata": {},
     "output_type": "execute_result"
    }
   ],
   "source": [
    "doc[7]"
   ]
  },
  {
   "cell_type": "code",
   "execution_count": 19,
   "id": "81d76a8f-9d96-46da-8766-375eb9bbe771",
   "metadata": {},
   "outputs": [
    {
     "data": {
      "text/plain": [
       "Aujourd’hui"
      ]
     },
     "execution_count": 19,
     "metadata": {},
     "output_type": "execute_result"
    }
   ],
   "source": [
    "doc[4]"
   ]
  },
  {
   "cell_type": "code",
   "execution_count": 23,
   "id": "314f3c72-c80a-4f35-94c6-d5adabe1e7aa",
   "metadata": {},
   "outputs": [
    {
     "name": "stderr",
     "output_type": "stream",
     "text": [
      "/var/folders/9h/7d8pbzsj6lb18x6hm1_j79_n60xn2s/T/ipykernel_11014/4218023691.py:1: UserWarning: [W007] The model you're using has no word vectors loaded, so the result of the Token.similarity method will be based on the tagger, parser and NER, which may not give useful similarity judgements. This may happen if you're using one of the small models, e.g. `en_core_web_sm`, which don't ship with word vectors and only use context-sensitive tensors. You can always add your own word vectors, or use one of the larger models instead if available.\n",
      "  doc[7].similarity(doc[4])\n"
     ]
    },
    {
     "data": {
      "text/plain": [
       "0.2560119330883026"
      ]
     },
     "execution_count": 23,
     "metadata": {},
     "output_type": "execute_result"
    }
   ],
   "source": [
    "doc[7].similarity(doc[4])"
   ]
  },
  {
   "cell_type": "markdown",
   "id": "55008e1e-9913-423d-aba4-f2c86f9814e5",
   "metadata": {},
   "source": [
    "## Embedding de phrase avec spacy "
   ]
  },
  {
   "cell_type": "code",
   "execution_count": 27,
   "id": "fa25b553-2696-40c9-90b8-6febd91e82bd",
   "metadata": {},
   "outputs": [
    {
     "data": {
      "text/plain": [
       "array([ 3.1978116 ,  0.35917225, -1.0368286 ,  2.2797155 ,  1.3843963 ,\n",
       "       -0.9017497 ,  0.5228301 ,  0.91542816, -0.29217795,  0.09813254,\n",
       "        0.56889206, -1.078526  , -0.8459236 , -1.3636593 , -1.9641409 ,\n",
       "       -0.69355965,  0.94850796, -0.15180854, -1.0847218 , -0.42476556,\n",
       "       -0.69461864,  0.12363277, -2.2466042 ,  0.3978849 , -1.503161  ,\n",
       "       -0.8234754 , -0.6900393 ,  0.5589976 , -0.16276865, -1.0247821 ,\n",
       "        0.9749793 ,  0.43170196,  1.7229924 ,  1.0227984 ,  1.0022902 ,\n",
       "        0.57370794, -1.0364473 , -0.39683604,  0.5730567 , -1.9682646 ,\n",
       "        1.553865  , -0.5585251 ,  0.8127074 , -1.2539328 , -0.7238964 ,\n",
       "        1.0596373 ,  2.9177494 ,  0.45797643, -0.6972785 ,  1.3148997 ,\n",
       "        1.3144795 ,  0.22091226, -2.9275143 , -1.9270437 , -0.42800605,\n",
       "       -0.6937943 ,  0.9719336 , -3.2608557 ,  0.18677957, -0.7659849 ,\n",
       "        0.09690148, -0.7212007 ,  1.8517612 ,  1.5124433 ,  0.5061227 ,\n",
       "        0.42600015,  1.3528136 , -0.74362123, -1.0597508 , -0.9586178 ,\n",
       "        1.7048488 ,  2.0243735 ,  0.87940943, -2.9610808 ,  0.43195644,\n",
       "       -0.18542606, -0.24839926,  0.17919242, -2.829286  ,  0.60710293,\n",
       "       -0.43849522, -0.3871411 ,  0.38928065,  0.47695613,  2.2990594 ,\n",
       "        0.24413735,  1.5148804 ,  0.44512624,  1.6730247 ,  0.0668492 ,\n",
       "        0.04187877, -0.48175928,  0.7366163 , -0.5835146 ,  0.46705222,\n",
       "       -2.8326075 ], dtype=float32)"
      ]
     },
     "execution_count": 27,
     "metadata": {},
     "output_type": "execute_result"
    }
   ],
   "source": [
    "import spacy\n",
    "\n",
    "# python -m spacy download fr_core_news_sm\n",
    "\n",
    "nlp = spacy.load('fr_core_news_sm')\n",
    "doc = nlp(\"Bonjour le monde. Aujourd’hui c'est Mercredi\")\n",
    "doc1 = nlp(\"Bonjour tout le monde. Nous sommes Mercredi\")\n",
    "doc.vector"
   ]
  },
  {
   "cell_type": "code",
   "execution_count": 28,
   "id": "85a8bf0b-5144-4ec6-8b34-a5d2d58769f0",
   "metadata": {},
   "outputs": [
    {
     "name": "stderr",
     "output_type": "stream",
     "text": [
      "/var/folders/9h/7d8pbzsj6lb18x6hm1_j79_n60xn2s/T/ipykernel_11014/2789509056.py:1: UserWarning: [W007] The model you're using has no word vectors loaded, so the result of the Doc.similarity method will be based on the tagger, parser and NER, which may not give useful similarity judgements. This may happen if you're using one of the small models, e.g. `en_core_web_sm`, which don't ship with word vectors and only use context-sensitive tensors. You can always add your own word vectors, or use one of the larger models instead if available.\n",
      "  doc.similarity(doc1)\n"
     ]
    },
    {
     "data": {
      "text/plain": [
       "0.6687537372361887"
      ]
     },
     "execution_count": 28,
     "metadata": {},
     "output_type": "execute_result"
    }
   ],
   "source": [
    "doc.similarity(doc1)"
   ]
  },
  {
   "cell_type": "markdown",
   "id": "daa8fcea-e85c-4bf9-9f66-61ced96bfab0",
   "metadata": {},
   "source": [
    "## NER avec Spacy"
   ]
  },
  {
   "cell_type": "code",
   "execution_count": 36,
   "id": "2e22bfb1-1771-4782-a206-7d680af2f050",
   "metadata": {},
   "outputs": [
    {
     "name": "stdout",
     "output_type": "stream",
     "text": [
      "Paul PER\n",
      "Burkina Faso LOC\n",
      "Nation Unies ORG\n"
     ]
    }
   ],
   "source": [
    "import spacy\n",
    "\n",
    "# python -m spacy download fr_core_news_sm\n",
    "\n",
    "nlp = spacy.load('fr_core_news_sm')\n",
    "\n",
    "doc = nlp(\"Paul vend des pizzas au Burkina Faso pres des Nation Unies.\")\n",
    "\n",
    "for token in doc.ents:\n",
    "    print(token, token.label_)"
   ]
  },
  {
   "cell_type": "code",
   "execution_count": 35,
   "id": "d16e9714-e881-41ab-aa2f-5815ab0e0d0f",
   "metadata": {},
   "outputs": [
    {
     "data": {
      "text/plain": [
       "('LOC', 'MISC', 'ORG', 'PER')"
      ]
     },
     "execution_count": 35,
     "metadata": {},
     "output_type": "execute_result"
    }
   ],
   "source": [
    "nlp.get_pipe('ner').labels"
   ]
  },
  {
   "cell_type": "code",
   "execution_count": null,
   "id": "b25f2b5a-f8e7-4c21-84e5-65fe51dfbedd",
   "metadata": {},
   "outputs": [],
   "source": []
  }
 ],
 "metadata": {
  "kernelspec": {
   "display_name": "Python 3 (ipykernel)",
   "language": "python",
   "name": "python3"
  },
  "language_info": {
   "codemirror_mode": {
    "name": "ipython",
    "version": 3
   },
   "file_extension": ".py",
   "mimetype": "text/x-python",
   "name": "python",
   "nbconvert_exporter": "python",
   "pygments_lexer": "ipython3",
   "version": "3.9.13"
  }
 },
 "nbformat": 4,
 "nbformat_minor": 5
}
