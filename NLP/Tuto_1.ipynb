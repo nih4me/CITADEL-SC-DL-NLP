{
 "cells": [
  {
   "cell_type": "markdown",
   "id": "bee37357-e478-4578-85cc-f0053b092567",
   "metadata": {},
   "source": [
    "# NLP 1"
   ]
  },
  {
   "cell_type": "markdown",
   "id": "58471d2b-806d-47df-b3b7-1936040b6c90",
   "metadata": {},
   "source": [
    "## Notre corpus"
   ]
  },
  {
   "cell_type": "code",
   "execution_count": 5,
   "id": "8dde3eeb-fe12-4867-b161-9c8ccadfbe43",
   "metadata": {},
   "outputs": [],
   "source": [
    "corpus = [\n",
    "    'Voici mon premier document.',\n",
    "    'Vous trouverez ici le deuxieme',\n",
    "    'Je suis le document numero trois.',\n",
    "    'Et enfin, voici le dernier document',]\n",
    "\n",
    "est_spam = [1, 0, 0, 1]"
   ]
  },
  {
   "cell_type": "markdown",
   "id": "668580bc-45e5-467a-8f17-6ac600b6ce57",
   "metadata": {},
   "source": [
    "## TF"
   ]
  },
  {
   "cell_type": "code",
   "execution_count": 6,
   "id": "a4e8d4ff-18a5-497a-bc0c-4f786f5143aa",
   "metadata": {},
   "outputs": [
    {
     "name": "stdout",
     "output_type": "stream",
     "text": [
      "['dernier' 'deuxieme' 'document' 'enfin' 'et' 'ici' 'je' 'le' 'mon'\n",
      " 'numero' 'premier' 'suis' 'trois' 'trouverez' 'voici' 'vous']\n",
      "[[0 0 1 0 0 0 0 0 1 0 1 0 0 0 1 0]\n",
      " [0 1 0 0 0 1 0 1 0 0 0 0 0 1 0 1]\n",
      " [0 0 1 0 0 0 1 1 0 1 0 1 1 0 0 0]\n",
      " [1 0 1 1 1 0 0 1 0 0 0 0 0 0 1 0]]\n"
     ]
    }
   ],
   "source": [
    "from sklearn.feature_extraction.text import CountVectorizer\n",
    "\n",
    "tf_vectorizer = CountVectorizer()\n",
    "X = tf_vectorizer.fit_transform(corpus)\n",
    "\n",
    "print(tf_vectorizer.get_feature_names_out())\n",
    "print(X.toarray())"
   ]
  },
  {
   "cell_type": "markdown",
   "id": "cd9eacee-c161-44cf-8da1-051e4cb2a4bf",
   "metadata": {},
   "source": [
    "## TF-IDF"
   ]
  },
  {
   "cell_type": "code",
   "execution_count": 8,
   "id": "77c620b9-28ae-4595-ae29-413e120caeac",
   "metadata": {},
   "outputs": [
    {
     "name": "stdout",
     "output_type": "stream",
     "text": [
      "['dernier' 'document' 'le' 'voici']\n",
      "[[0.         0.62922751 0.         0.77722116]\n",
      " [0.         0.         1.         0.        ]\n",
      " [0.         0.70710678 0.70710678 0.        ]\n",
      " [0.64065543 0.40892206 0.40892206 0.5051001 ]]\n"
     ]
    }
   ],
   "source": [
    "from sklearn.feature_extraction.text import TfidfVectorizer\n",
    "\n",
    "tfidf_vectorizer = TfidfVectorizer(max_features=4)\n",
    "X = tfidf_vectorizer.fit_transform(corpus)\n",
    "\n",
    "print(tfidf_vectorizer.get_feature_names_out())\n",
    "print(X.toarray())"
   ]
  },
  {
   "cell_type": "code",
   "execution_count": null,
   "id": "853fd921-4b6c-44d5-b904-2d684e03b1a9",
   "metadata": {},
   "outputs": [],
   "source": []
  }
 ],
 "metadata": {
  "kernelspec": {
   "display_name": "Python 3 (ipykernel)",
   "language": "python",
   "name": "python3"
  },
  "language_info": {
   "codemirror_mode": {
    "name": "ipython",
    "version": 3
   },
   "file_extension": ".py",
   "mimetype": "text/x-python",
   "name": "python",
   "nbconvert_exporter": "python",
   "pygments_lexer": "ipython3",
   "version": "3.9.13"
  }
 },
 "nbformat": 4,
 "nbformat_minor": 5
}
