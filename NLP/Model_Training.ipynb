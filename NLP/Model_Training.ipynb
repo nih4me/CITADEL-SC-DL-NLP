{
 "cells": [
  {
   "cell_type": "markdown",
   "id": "298c59cd-d50d-4efa-baf4-57ede0e1f1c0",
   "metadata": {},
   "source": [
    "# Analyse de sentiments"
   ]
  },
  {
   "cell_type": "markdown",
   "id": "6904dbfb-3e10-4d7a-b672-ada85b6ad6be",
   "metadata": {},
   "source": [
    "Classification des discours haineux !"
   ]
  },
  {
   "cell_type": "code",
   "execution_count": 1,
   "id": "d5f5b1fe-9f9f-4205-b215-98f476abfad9",
   "metadata": {},
   "outputs": [],
   "source": [
    "import pandas as pd\n",
    "import numpy as np\n",
    "import matplotlib.pyplot as plt\n",
    "import seaborn as sns"
   ]
  },
  {
   "cell_type": "markdown",
   "id": "22dd205c-d82f-4890-bc52-6dc41467b328",
   "metadata": {},
   "source": [
    "## A propos des donnees"
   ]
  },
  {
   "cell_type": "code",
   "execution_count": 2,
   "id": "3cec40bf-e82d-431e-8ef9-2ffbc0e4ecda",
   "metadata": {},
   "outputs": [],
   "source": [
    "file_path = 'twitter_sentiments.csv'"
   ]
  },
  {
   "cell_type": "code",
   "execution_count": 3,
   "id": "8b018721-dd4c-4d77-b901-c4d3ddc21c29",
   "metadata": {},
   "outputs": [],
   "source": [
    "data = pd.read_csv(file_path)"
   ]
  },
  {
   "cell_type": "code",
   "execution_count": 7,
   "id": "de30ccf6-9079-4cde-b9b7-4269c66f04d4",
   "metadata": {},
   "outputs": [
    {
     "data": {
      "text/html": [
       "<div>\n",
       "<style scoped>\n",
       "    .dataframe tbody tr th:only-of-type {\n",
       "        vertical-align: middle;\n",
       "    }\n",
       "\n",
       "    .dataframe tbody tr th {\n",
       "        vertical-align: top;\n",
       "    }\n",
       "\n",
       "    .dataframe thead th {\n",
       "        text-align: right;\n",
       "    }\n",
       "</style>\n",
       "<table border=\"1\" class=\"dataframe\">\n",
       "  <thead>\n",
       "    <tr style=\"text-align: right;\">\n",
       "      <th></th>\n",
       "      <th>id</th>\n",
       "      <th>label</th>\n",
       "      <th>tweet</th>\n",
       "    </tr>\n",
       "  </thead>\n",
       "  <tbody>\n",
       "    <tr>\n",
       "      <th>0</th>\n",
       "      <td>1</td>\n",
       "      <td>0</td>\n",
       "      <td>@user when a father is dysfunctional and is s...</td>\n",
       "    </tr>\n",
       "    <tr>\n",
       "      <th>1</th>\n",
       "      <td>2</td>\n",
       "      <td>0</td>\n",
       "      <td>@user @user thanks for #lyft credit i can't us...</td>\n",
       "    </tr>\n",
       "    <tr>\n",
       "      <th>2</th>\n",
       "      <td>3</td>\n",
       "      <td>0</td>\n",
       "      <td>bihday your majesty</td>\n",
       "    </tr>\n",
       "    <tr>\n",
       "      <th>3</th>\n",
       "      <td>4</td>\n",
       "      <td>0</td>\n",
       "      <td>#model   i love u take with u all the time in ...</td>\n",
       "    </tr>\n",
       "    <tr>\n",
       "      <th>4</th>\n",
       "      <td>5</td>\n",
       "      <td>0</td>\n",
       "      <td>factsguide: society now    #motivation</td>\n",
       "    </tr>\n",
       "    <tr>\n",
       "      <th>5</th>\n",
       "      <td>6</td>\n",
       "      <td>0</td>\n",
       "      <td>[2/2] huge fan fare and big talking before the...</td>\n",
       "    </tr>\n",
       "    <tr>\n",
       "      <th>6</th>\n",
       "      <td>7</td>\n",
       "      <td>0</td>\n",
       "      <td>@user camping tomorrow @user @user @user @use...</td>\n",
       "    </tr>\n",
       "    <tr>\n",
       "      <th>7</th>\n",
       "      <td>8</td>\n",
       "      <td>0</td>\n",
       "      <td>the next school year is the year for exams.ð...</td>\n",
       "    </tr>\n",
       "    <tr>\n",
       "      <th>8</th>\n",
       "      <td>9</td>\n",
       "      <td>0</td>\n",
       "      <td>we won!!! love the land!!! #allin #cavs #champ...</td>\n",
       "    </tr>\n",
       "    <tr>\n",
       "      <th>9</th>\n",
       "      <td>10</td>\n",
       "      <td>0</td>\n",
       "      <td>@user @user welcome here !  i'm   it's so #gr...</td>\n",
       "    </tr>\n",
       "  </tbody>\n",
       "</table>\n",
       "</div>"
      ],
      "text/plain": [
       "   id  label                                              tweet\n",
       "0   1      0   @user when a father is dysfunctional and is s...\n",
       "1   2      0  @user @user thanks for #lyft credit i can't us...\n",
       "2   3      0                                bihday your majesty\n",
       "3   4      0  #model   i love u take with u all the time in ...\n",
       "4   5      0             factsguide: society now    #motivation\n",
       "5   6      0  [2/2] huge fan fare and big talking before the...\n",
       "6   7      0   @user camping tomorrow @user @user @user @use...\n",
       "7   8      0  the next school year is the year for exams.ð...\n",
       "8   9      0  we won!!! love the land!!! #allin #cavs #champ...\n",
       "9  10      0   @user @user welcome here !  i'm   it's so #gr..."
      ]
     },
     "execution_count": 7,
     "metadata": {},
     "output_type": "execute_result"
    }
   ],
   "source": [
    "data.head(10)"
   ]
  },
  {
   "cell_type": "code",
   "execution_count": 23,
   "id": "214b5b81-6762-444d-b6ea-467cf570a5ee",
   "metadata": {},
   "outputs": [
    {
     "data": {
      "text/plain": [
       "<seaborn.axisgrid.FacetGrid at 0x13f6d2fa0>"
      ]
     },
     "execution_count": 23,
     "metadata": {},
     "output_type": "execute_result"
    },
    {
     "data": {
      "image/png": "[encoded data removed]",
      "text/plain": [
       "<Figure size 500x500 with 1 Axes>"
      ]
     },
     "metadata": {},
     "output_type": "display_data"
    }
   ],
   "source": [
    "sns.displot(data['label'])"
   ]
  },
  {
   "cell_type": "markdown",
   "id": "e8b77334-24eb-482a-8f5e-22b5f4d16d13",
   "metadata": {},
   "source": [
    "...."
   ]
  },
  {
   "cell_type": "markdown",
   "id": "ec6fd08c-d59b-4263-99c1-13b8bd016183",
   "metadata": {},
   "source": [
    "## Nettoyage des Données"
   ]
  },
  {
   "cell_type": "code",
   "execution_count": 19,
   "id": "8a619ca3-e335-405f-91b7-f50764db8d9a",
   "metadata": {},
   "outputs": [],
   "source": [
    "import re\n",
    "from nltk.corpus import stopwords\n",
    "\n",
    "def clean_data(row):\n",
    "    tweet = row['tweet']\n",
    "    # lower\n",
    "    tweet = tweet.lower()\n",
    "    # remove hash tag\n",
    "    tweet = tweet.replace('#', '')\n",
    "    # remove special characters\n",
    "    tweet = re.sub('[^a-z\\s]', '', tweet)\n",
    "    # remove all words with len(word) < 3\n",
    "    tweet = ' '.join([w for w in tweet.split() if len(w) > 2])\n",
    "    # remove stopwords\n",
    "    list_stopwords = stopwords.words(\"english\")\n",
    "    tweet = ' '.join([w for w in tweet.split() if w not in list_stopwords])\n",
    "    \n",
    "    return tweet"
   ]
  },
  {
   "cell_type": "code",
   "execution_count": 20,
   "id": "e0bcae15-cbb1-4b57-ba58-ab40572ee5a4",
   "metadata": {},
   "outputs": [],
   "source": [
    "data['clean_tweet'] = data.apply(lambda row: clean_data(row), axis=1)"
   ]
  },
  {
   "cell_type": "code",
   "execution_count": 22,
   "id": "3e49e1d1-ea7e-495d-9163-74e03f78c755",
   "metadata": {},
   "outputs": [
    {
     "data": {
      "text/html": [
       "<div>\n",
       "<style scoped>\n",
       "    .dataframe tbody tr th:only-of-type {\n",
       "        vertical-align: middle;\n",
       "    }\n",
       "\n",
       "    .dataframe tbody tr th {\n",
       "        vertical-align: top;\n",
       "    }\n",
       "\n",
       "    .dataframe thead th {\n",
       "        text-align: right;\n",
       "    }\n",
       "</style>\n",
       "<table border=\"1\" class=\"dataframe\">\n",
       "  <thead>\n",
       "    <tr style=\"text-align: right;\">\n",
       "      <th></th>\n",
       "      <th>id</th>\n",
       "      <th>label</th>\n",
       "      <th>tweet</th>\n",
       "      <th>clean_tweet</th>\n",
       "    </tr>\n",
       "  </thead>\n",
       "  <tbody>\n",
       "    <tr>\n",
       "      <th>0</th>\n",
       "      <td>1</td>\n",
       "      <td>0</td>\n",
       "      <td>@user when a father is dysfunctional and is s...</td>\n",
       "      <td>user father dysfunctional selfish drags kids d...</td>\n",
       "    </tr>\n",
       "    <tr>\n",
       "      <th>1</th>\n",
       "      <td>2</td>\n",
       "      <td>0</td>\n",
       "      <td>@user @user thanks for #lyft credit i can't us...</td>\n",
       "      <td>user user thanks lyft credit cant use cause do...</td>\n",
       "    </tr>\n",
       "    <tr>\n",
       "      <th>2</th>\n",
       "      <td>3</td>\n",
       "      <td>0</td>\n",
       "      <td>bihday your majesty</td>\n",
       "      <td>bihday majesty</td>\n",
       "    </tr>\n",
       "    <tr>\n",
       "      <th>3</th>\n",
       "      <td>4</td>\n",
       "      <td>0</td>\n",
       "      <td>#model   i love u take with u all the time in ...</td>\n",
       "      <td>model love take time</td>\n",
       "    </tr>\n",
       "    <tr>\n",
       "      <th>4</th>\n",
       "      <td>5</td>\n",
       "      <td>0</td>\n",
       "      <td>factsguide: society now    #motivation</td>\n",
       "      <td>factsguide society motivation</td>\n",
       "    </tr>\n",
       "  </tbody>\n",
       "</table>\n",
       "</div>"
      ],
      "text/plain": [
       "   id  label                                              tweet  \\\n",
       "0   1      0   @user when a father is dysfunctional and is s...   \n",
       "1   2      0  @user @user thanks for #lyft credit i can't us...   \n",
       "2   3      0                                bihday your majesty   \n",
       "3   4      0  #model   i love u take with u all the time in ...   \n",
       "4   5      0             factsguide: society now    #motivation   \n",
       "\n",
       "                                         clean_tweet  \n",
       "0  user father dysfunctional selfish drags kids d...  \n",
       "1  user user thanks lyft credit cant use cause do...  \n",
       "2                                     bihday majesty  \n",
       "3                               model love take time  \n",
       "4                      factsguide society motivation  "
      ]
     },
     "execution_count": 22,
     "metadata": {},
     "output_type": "execute_result"
    }
   ],
   "source": [
    "data.head(5)"
   ]
  },
  {
   "cell_type": "markdown",
   "id": "4fde76ec-590f-41c0-a201-fa64dc0d496d",
   "metadata": {},
   "source": [
    "Remove top 25 most frequent words"
   ]
  },
  {
   "cell_type": "code",
   "execution_count": 25,
   "id": "8af1c8ed-2f61-47d3-be55-86f3a3adae73",
   "metadata": {},
   "outputs": [],
   "source": [
    "all_tweets = ' '.join(data['clean_tweet'])"
   ]
  },
  {
   "cell_type": "code",
   "execution_count": 40,
   "id": "c705bd6d-0efa-4f49-83dc-05c763a87319",
   "metadata": {},
   "outputs": [],
   "source": [
    "most_frequent_words_top_25 = pd.Series(all_tweets.split()).value_counts()[:25]"
   ]
  },
  {
   "cell_type": "code",
   "execution_count": 44,
   "id": "742cd858-7368-4308-8c81-c8b1d5f38af0",
   "metadata": {},
   "outputs": [],
   "source": [
    "def remove_top_25_most_frequent_words(row):\n",
    "    tweet = row['clean_tweet']\n",
    "    tweet = ' '.join([w for w in tweet.split() if w not in list(most_frequent_words_top_25.index)])\n",
    "    return tweet"
   ]
  },
  {
   "cell_type": "code",
   "execution_count": 45,
   "id": "fcfd7239-b1a4-4adf-ac1d-0ec0ad970658",
   "metadata": {},
   "outputs": [],
   "source": [
    "data['clean_tweet_without_top_25_most_frequent_words'] = data.apply(lambda row: remove_top_25_most_frequent_words(row), axis=1)"
   ]
  },
  {
   "cell_type": "code",
   "execution_count": 47,
   "id": "c9db4be9-e25d-46be-8a3b-f4d98a1e8f39",
   "metadata": {},
   "outputs": [
    {
     "data": {
      "text/html": [
       "<div>\n",
       "<style scoped>\n",
       "    .dataframe tbody tr th:only-of-type {\n",
       "        vertical-align: middle;\n",
       "    }\n",
       "\n",
       "    .dataframe tbody tr th {\n",
       "        vertical-align: top;\n",
       "    }\n",
       "\n",
       "    .dataframe thead th {\n",
       "        text-align: right;\n",
       "    }\n",
       "</style>\n",
       "<table border=\"1\" class=\"dataframe\">\n",
       "  <thead>\n",
       "    <tr style=\"text-align: right;\">\n",
       "      <th></th>\n",
       "      <th>id</th>\n",
       "      <th>label</th>\n",
       "      <th>tweet</th>\n",
       "      <th>clean_tweet</th>\n",
       "      <th>clean_tweet_without_top_25_most_frequent_words</th>\n",
       "    </tr>\n",
       "  </thead>\n",
       "  <tbody>\n",
       "    <tr>\n",
       "      <th>0</th>\n",
       "      <td>1</td>\n",
       "      <td>0</td>\n",
       "      <td>@user when a father is dysfunctional and is s...</td>\n",
       "      <td>user father dysfunctional selfish drags kids d...</td>\n",
       "      <td>father dysfunctional selfish drags kids dysfun...</td>\n",
       "    </tr>\n",
       "    <tr>\n",
       "      <th>1</th>\n",
       "      <td>2</td>\n",
       "      <td>0</td>\n",
       "      <td>@user @user thanks for #lyft credit i can't us...</td>\n",
       "      <td>user user thanks lyft credit cant use cause do...</td>\n",
       "      <td>thanks lyft credit use cause offer wheelchair ...</td>\n",
       "    </tr>\n",
       "    <tr>\n",
       "      <th>2</th>\n",
       "      <td>3</td>\n",
       "      <td>0</td>\n",
       "      <td>bihday your majesty</td>\n",
       "      <td>bihday majesty</td>\n",
       "      <td>majesty</td>\n",
       "    </tr>\n",
       "  </tbody>\n",
       "</table>\n",
       "</div>"
      ],
      "text/plain": [
       "   id  label                                              tweet  \\\n",
       "0   1      0   @user when a father is dysfunctional and is s...   \n",
       "1   2      0  @user @user thanks for #lyft credit i can't us...   \n",
       "2   3      0                                bihday your majesty   \n",
       "\n",
       "                                         clean_tweet  \\\n",
       "0  user father dysfunctional selfish drags kids d...   \n",
       "1  user user thanks lyft credit cant use cause do...   \n",
       "2                                     bihday majesty   \n",
       "\n",
       "      clean_tweet_without_top_25_most_frequent_words  \n",
       "0  father dysfunctional selfish drags kids dysfun...  \n",
       "1  thanks lyft credit use cause offer wheelchair ...  \n",
       "2                                            majesty  "
      ]
     },
     "execution_count": 47,
     "metadata": {},
     "output_type": "execute_result"
    }
   ],
   "source": [
    "data.head(3)"
   ]
  },
  {
   "cell_type": "markdown",
   "id": "cfed99ce-8b3c-4d59-9c9d-d7618a50c05a",
   "metadata": {},
   "source": [
    "## Tweet to vectors"
   ]
  },
  {
   "cell_type": "code",
   "execution_count": 48,
   "id": "0cb7eee9-d379-4414-a65d-92bb6d012982",
   "metadata": {},
   "outputs": [],
   "source": [
    "import spacy\n",
    "\n",
    "nlp = spacy.load('en_core_web_lg')"
   ]
  },
  {
   "cell_type": "code",
   "execution_count": 51,
   "id": "96446cc0-6611-4bd4-90a5-2db40ab0f3b0",
   "metadata": {},
   "outputs": [],
   "source": [
    "def tweet2vec(row):\n",
    "    tweet = row['clean_tweet_without_top_25_most_frequent_words']\n",
    "    tweet_vector = nlp(tweet).vector\n",
    "    return tweet_vector"
   ]
  },
  {
   "cell_type": "code",
   "execution_count": 54,
   "id": "797fc267-0c24-4d90-bab5-7e23797b6758",
   "metadata": {},
   "outputs": [],
   "source": [
    "data['tweet_vector'] = data.apply(lambda row: tweet2vec(row), axis=1)"
   ]
  },
  {
   "cell_type": "code",
   "execution_count": 55,
   "id": "a7466457-6d39-4d62-b07e-ca36713278ef",
   "metadata": {},
   "outputs": [
    {
     "data": {
      "text/html": [
       "<div>\n",
       "<style scoped>\n",
       "    .dataframe tbody tr th:only-of-type {\n",
       "        vertical-align: middle;\n",
       "    }\n",
       "\n",
       "    .dataframe tbody tr th {\n",
       "        vertical-align: top;\n",
       "    }\n",
       "\n",
       "    .dataframe thead th {\n",
       "        text-align: right;\n",
       "    }\n",
       "</style>\n",
       "<table border=\"1\" class=\"dataframe\">\n",
       "  <thead>\n",
       "    <tr style=\"text-align: right;\">\n",
       "      <th></th>\n",
       "      <th>id</th>\n",
       "      <th>label</th>\n",
       "      <th>tweet</th>\n",
       "      <th>clean_tweet</th>\n",
       "      <th>clean_tweet_without_top_25_most_frequent_words</th>\n",
       "      <th>tweet_vector</th>\n",
       "    </tr>\n",
       "  </thead>\n",
       "  <tbody>\n",
       "    <tr>\n",
       "      <th>0</th>\n",
       "      <td>1</td>\n",
       "      <td>0</td>\n",
       "      <td>@user when a father is dysfunctional and is s...</td>\n",
       "      <td>user father dysfunctional selfish drags kids d...</td>\n",
       "      <td>father dysfunctional selfish drags kids dysfun...</td>\n",
       "      <td>[-0.1594863, 1.1605057, -2.023615, -0.80235493...</td>\n",
       "    </tr>\n",
       "  </tbody>\n",
       "</table>\n",
       "</div>"
      ],
      "text/plain": [
       "   id  label                                              tweet  \\\n",
       "0   1      0   @user when a father is dysfunctional and is s...   \n",
       "\n",
       "                                         clean_tweet  \\\n",
       "0  user father dysfunctional selfish drags kids d...   \n",
       "\n",
       "      clean_tweet_without_top_25_most_frequent_words  \\\n",
       "0  father dysfunctional selfish drags kids dysfun...   \n",
       "\n",
       "                                        tweet_vector  \n",
       "0  [-0.1594863, 1.1605057, -2.023615, -0.80235493...  "
      ]
     },
     "execution_count": 55,
     "metadata": {},
     "output_type": "execute_result"
    }
   ],
   "source": [
    "data.head(1)"
   ]
  },
  {
   "cell_type": "markdown",
   "id": "8e86c9a4-ef0f-431b-b769-4d34a7335eb2",
   "metadata": {},
   "source": [
    "## Entrainement du modele"
   ]
  },
  {
   "cell_type": "markdown",
   "id": "19ecd056-51d0-4d8e-9a69-b0d011951475",
   "metadata": {},
   "source": [
    "Split Train/Test"
   ]
  },
  {
   "cell_type": "code",
   "execution_count": 68,
   "id": "c7acb106-7fc6-405b-9a7b-a2885a94f824",
   "metadata": {},
   "outputs": [
    {
     "name": "stdout",
     "output_type": "stream",
     "text": [
      "Total des donnees :  31962\n",
      "Total des donnees (Training) :  25569\n",
      "Total des donnees (Testing) :  6393\n"
     ]
    }
   ],
   "source": [
    "from sklearn.model_selection import train_test_split\n",
    "\n",
    "X = data['tweet_vector']\n",
    "y = data['label']\n",
    "\n",
    "print(\"Total des donnees : \", len(X))\n",
    "\n",
    "X_train, X_test, y_train, y_test = train_test_split(X, y, stratify=y, test_size=0.2, random_state=10)\n",
    "\n",
    "X_train = X_train.tolist()\n",
    "X_test = X_test.tolist()\n",
    "\n",
    "print(\"Total des donnees (Training) : \", len(X_train))\n",
    "print(\"Total des donnees (Testing) : \", len(X_test))"
   ]
  },
  {
   "cell_type": "markdown",
   "id": "d0761d3e-7e03-4a12-bc7c-47ce1e9323a5",
   "metadata": {},
   "source": [
    "Training"
   ]
  },
  {
   "cell_type": "code",
   "execution_count": 85,
   "id": "763a01f3-e962-4717-b0b4-d0bba114637c",
   "metadata": {},
   "outputs": [
    {
     "data": {
      "text/plain": [
       "0.9471625796863389"
      ]
     },
     "execution_count": 85,
     "metadata": {},
     "output_type": "execute_result"
    }
   ],
   "source": [
    "from sklearn.linear_model import LogisticRegression\n",
    "\n",
    "model = LogisticRegression(C=10, max_iter=1000).fit(X_train, y_train)\n",
    "model.score(X_train, y_train)"
   ]
  },
  {
   "cell_type": "markdown",
   "id": "d2f5958c-f163-487a-ac59-84cc3f3d47c1",
   "metadata": {},
   "source": [
    "Testing"
   ]
  },
  {
   "cell_type": "code",
   "execution_count": 86,
   "id": "1265c273-81e5-49f9-8b8a-54b6ca8bfd1b",
   "metadata": {},
   "outputs": [
    {
     "data": {
      "text/plain": [
       "0.9440012513686845"
      ]
     },
     "execution_count": 86,
     "metadata": {},
     "output_type": "execute_result"
    }
   ],
   "source": [
    "y_pred = model.predict(X_test)\n",
    "model.score(X_test, y_test)"
   ]
  },
  {
   "cell_type": "code",
   "execution_count": 87,
   "id": "cff25f7a-7767-4b14-9a5c-dc3dd8ff07f6",
   "metadata": {},
   "outputs": [
    {
     "name": "stdout",
     "output_type": "stream",
     "text": [
      "[[5868   77]\n",
      " [ 281  167]]\n"
     ]
    },
    {
     "data": {
      "text/plain": [
       "<AxesSubplot: >"
      ]
     },
     "execution_count": 87,
     "metadata": {},
     "output_type": "execute_result"
    },
    {
     "data": {
      "image/png": "[encoded data removed]",
      "text/plain": [
       "<Figure size 640x480 with 2 Axes>"
      ]
     },
     "metadata": {},
     "output_type": "display_data"
    }
   ],
   "source": [
    "from sklearn.metrics import confusion_matrix\n",
    "\n",
    "cm = confusion_matrix(y_test, y_pred)\n",
    "print(cm)\n",
    "sns.heatmap(cm, annot=True)"
   ]
  },
  {
   "cell_type": "code",
   "execution_count": 91,
   "id": "139bf48b-d5b7-43be-b38f-d440bb87001b",
   "metadata": {},
   "outputs": [
    {
     "name": "stdout",
     "output_type": "stream",
     "text": [
      "Accuracy :  0.9440012513686845\n",
      "Precision :  0.6844262295081968\n",
      "Recall :  0.37276785714285715\n",
      "F-score :  0.4826589595375723\n"
     ]
    }
   ],
   "source": [
    "# Accuracy, Precision, Recall, F-Score\n",
    "\n",
    "from sklearn.metrics import accuracy_score, precision_score, recall_score, f1_score\n",
    "\n",
    "accuracy = accuracy_score(y_test, y_pred)\n",
    "precision = precision_score(y_test, y_pred)\n",
    "recall = recall_score(y_test, y_pred)\n",
    "fscore = f1_score(y_test, y_pred)\n",
    "\n",
    "print(\"Accuracy : \", accuracy)\n",
    "print(\"Precision : \", precision)\n",
    "print(\"Recall : \", recall)\n",
    "print(\"F-score : \", fscore)"
   ]
  },
  {
   "cell_type": "markdown",
   "id": "626d9e51-bfbb-484a-b6e1-838ed2d8aa96",
   "metadata": {},
   "source": [
    "## Deploiement"
   ]
  },
  {
   "cell_type": "code",
   "execution_count": 92,
   "id": "6e1ba51a-e0a8-4e07-a10f-2e0169316f12",
   "metadata": {},
   "outputs": [],
   "source": [
    "# Export\n",
    "\n",
    "to_export = dict()\n",
    "to_export['data_cleaning'] = [clean_data, remove_top_25_most_frequent_words]\n",
    "to_export['tweet2vec'] = tweet2vec\n",
    "to_export['model'] = model"
   ]
  },
  {
   "cell_type": "code",
   "execution_count": 99,
   "id": "3be89570-ea41-4011-9dee-cd41bf8c8224",
   "metadata": {},
   "outputs": [
    {
     "data": {
      "text/plain": [
       "sklearn.linear_model._logistic.LogisticRegression"
      ]
     },
     "execution_count": 99,
     "metadata": {},
     "output_type": "execute_result"
    }
   ],
   "source": [
    "type(to_export['model'])"
   ]
  },
  {
   "cell_type": "code",
   "execution_count": 100,
   "id": "572f2c33-5a68-4a87-a27f-5da8e8b05f83",
   "metadata": {},
   "outputs": [],
   "source": [
    "import dill as pickle\n",
    "\n",
    "fichier = open('tweet_sentiment_analysis_model.pkl', mode='wb')\n",
    "pickle.dump(to_export, fichier)\n",
    "fichier.close()"
   ]
  },
  {
   "cell_type": "code",
   "execution_count": null,
   "id": "4cb61540-1fed-460e-9cdd-cf093c53c5d4",
   "metadata": {},
   "outputs": [],
   "source": []
  }
 ],
 "metadata": {
  "kernelspec": {
   "display_name": "Python 3 (ipykernel)",
   "language": "python",
   "name": "python3"
  },
  "language_info": {
   "codemirror_mode": {
    "name": "ipython",
    "version": 3
   },
   "file_extension": ".py",
   "mimetype": "text/x-python",
   "name": "python",
   "nbconvert_exporter": "python",
   "pygments_lexer": "ipython3",
   "version": "3.9.13"
  }
 },
 "nbformat": 4,
 "nbformat_minor": 5
}
